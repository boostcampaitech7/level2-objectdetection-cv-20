{
 "cells": [
  {
   "cell_type": "code",
   "execution_count": 8,
   "metadata": {},
   "outputs": [],
   "source": [
    "import json\n",
    "import pandas as pd\n",
    "import random\n",
    "import os\n",
    "import numpy as np\n",
    "\n",
    "# 랜덤 시드 설정\n",
    "random.seed(20)\n",
    "\n",
    "# train.json 파일 로드\n",
    "with open('../../../../../dataset/train.json') as f:\n",
    "    data = json.load(f)\n",
    "\n"
   ]
  },
  {
   "cell_type": "code",
   "execution_count": 9,
   "metadata": {},
   "outputs": [],
   "source": [
    "# 이미지를 DataFrame으로 변환\n",
    "images = pd.DataFrame(data['images'])\n",
    "annotations = pd.DataFrame(data['annotations'])\n"
   ]
  },
  {
   "cell_type": "code",
   "execution_count": 14,
   "metadata": {},
   "outputs": [],
   "source": [
    "\n",
    "# 랜덤으로 훈련 세트와 검증 세트 나누기 (80% 훈련, 20% 검증)\n",
    "train_images, valid_images = np.split(images.sample(frac=1, random_state=20), [int(0.8 * len(images))])\n"
   ]
  },
  {
   "cell_type": "code",
   "execution_count": 16,
   "metadata": {},
   "outputs": [],
   "source": [
    "# 검증 세트에 해당하는 이미지 ID 리스트\n",
    "valid_image_ids = valid_images['id'].tolist()\n"
   ]
  },
  {
   "cell_type": "code",
   "execution_count": 19,
   "metadata": {},
   "outputs": [],
   "source": [
    "\n",
    "# 검증 데이터에서 annotations 필터링\n",
    "valid_annotations = annotations[annotations['image_id'].isin(valid_image_ids)]\n"
   ]
  },
  {
   "cell_type": "code",
   "execution_count": 44,
   "metadata": {},
   "outputs": [],
   "source": [
    "# 결과를 COCO 형식으로 저장하기 위해 딕셔너리 생성\n",
    "train_data = {\n",
    "    'images': train_images.to_dict(orient='records'),\n",
    "    'annotations': annotations[~annotations['image_id'].isin(valid_image_ids)].to_dict(orient='records'),\n",
    "    'categories': data['categories']  # 카테고리 정보는 그대로 유지\n",
    "}\n",
    "\n",
    "valid_data = {\n",
    "    'images': valid_images.to_dict(orient='records'),\n",
    "    'annotations': valid_annotations.to_dict(orient='records'),\n",
    "    'categories': data['categories']  # 카테고리 정보는 그대로 유지\n",
    "}\n",
    "\n",
    "\n"
   ]
  },
  {
   "cell_type": "code",
   "execution_count": 45,
   "metadata": {},
   "outputs": [
    {
     "name": "stdout",
     "output_type": "stream",
     "text": [
      "훈련 및 검증 데이터셋이 저장되었습니다.\n"
     ]
    }
   ],
   "source": [
    "# 훈련 및 검증 JSON 파일로 저장\n",
    "with open('../../../../../dataset/split_train.json', 'w') as f:\n",
    "    json.dump(train_data, f)\n",
    "\n",
    "with open('../../../../../dataset/split_val.json', 'w') as f:\n",
    "    json.dump(valid_data, f)\n",
    "\n",
    "print(\"훈련 및 검증 데이터셋이 저장되었습니다.\")"
   ]
  },
  {
   "cell_type": "code",
   "execution_count": null,
   "metadata": {},
   "outputs": [],
   "source": []
  }
 ],
 "metadata": {
  "kernelspec": {
   "display_name": "base",
   "language": "python",
   "name": "python3"
  },
  "language_info": {
   "codemirror_mode": {
    "name": "ipython",
    "version": 3
   },
   "file_extension": ".py",
   "mimetype": "text/x-python",
   "name": "python",
   "nbconvert_exporter": "python",
   "pygments_lexer": "ipython3",
   "version": "3.10.13"
  }
 },
 "nbformat": 4,
 "nbformat_minor": 2
}
