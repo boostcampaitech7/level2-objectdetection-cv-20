{
 "cells": [
  {
   "cell_type": "code",
   "execution_count": 9,
   "metadata": {},
   "outputs": [],
   "source": [
    "import json\n",
    "import os\n",
    "import pandas as pd\n",
    "from pycocotools.coco import COCO"
   ]
  },
  {
   "cell_type": "code",
   "execution_count": 128,
   "metadata": {},
   "outputs": [],
   "source": [
    "# submission 양식에 맞게 output 후처리\n",
    "def json_to_submission(json_file_path, submission_path, output_path, output_file_name, score_thr):\n",
    "\n",
    "    with open(json_file_path, 'r') as f:\n",
    "        data = json.load(f)\n",
    "\n",
    "    coco = COCO(submission_path)\n",
    "    img_ids = coco.getImgIds()\n",
    "\n",
    "    prediction_strings = ['' for _ in range(len(img_ids))]\n",
    "    file_names = [f'test/{str(img_id).zfill(4)}.jpg' for img_id in range(len(img_ids))]\n",
    "\n",
    "    for info in data:\n",
    "\n",
    "        img_id = info['image_id']\n",
    "        xmin, ymin, w, h = info['bbox']\n",
    "        xmax, ymax = xmin+w, ymin+h\n",
    "        score = info['score']\n",
    "        cate_id = info['category_id']\n",
    "\n",
    "        if score < score_thr:\n",
    "            continue\n",
    "\n",
    "        prediction_list = map(str, [cate_id, score, xmin, ymin, xmax, ymax])\n",
    "        prediction_string = ' '.join(prediction_list) + ' '\n",
    "\n",
    "        prediction_strings[img_id] += prediction_string\n",
    "\n",
    "\n",
    "    submission = pd.DataFrame()\n",
    "    submission['PredictionString'] = prediction_strings\n",
    "    submission['image_id'] = file_names\n",
    "\n",
    "    submission.to_csv(os.path.join(output_path, output_file_name), index=None)\n",
    "    print(submission.head())\n",
    "    print(submission.tail())"
   ]
  },
  {
   "cell_type": "code",
   "execution_count": 133,
   "metadata": {},
   "outputs": [
    {
     "name": "stdout",
     "output_type": "stream",
     "text": [
      "loading annotations into memory...\n",
      "Done (t=0.01s)\n",
      "creating index...\n",
      "index created!\n",
      "                                    PredictionString       image_id\n",
      "0  7 0.8832297325134277 603.5814208984375 519.343...  test/0000.jpg\n",
      "1  5 0.6596419811248779 129.28302001953125 0.0 49...  test/0001.jpg\n",
      "2  1 0.6677157282829285 77.11616516113281 273.067...  test/0002.jpg\n",
      "3  9 0.8930801153182983 141.43505859375 263.62536...  test/0003.jpg\n",
      "4  1 0.7861066460609436 189.751220703125 251.5643...  test/0004.jpg\n",
      "                                       PredictionString       image_id\n",
      "4866  0 0.6641607284545898 293.0938720703125 346.492...  test/4866.jpg\n",
      "4867  3 0.7849198579788208 414.6515808105469 309.764...  test/4867.jpg\n",
      "4868  7 0.8757544755935669 118.235595703125 474.3724...  test/4868.jpg\n",
      "4869  0 0.6749555468559265 7.203704357147217 240.889...  test/4869.jpg\n",
      "4870  4 0.8339611291885376 373.6348876953125 201.579...  test/4870.jpg\n"
     ]
    }
   ],
   "source": [
    "json_file_path = './mmdetection_v3/work_dirs/h_dino_recycle/result/w_tta.bbox.json'\n",
    "submission_path = './dataset/test.json'\n",
    "output_path = './submission'\n",
    "output_file_name = 'h_dino_result_tta_0.1.csv'\n",
    "score_thr = 0.1\n",
    "\n",
    "json_to_submission(json_file_path, submission_path, output_path, output_file_name, score_thr)"
   ]
  }
 ],
 "metadata": {
  "kernelspec": {
   "display_name": "base",
   "language": "python",
   "name": "python3"
  },
  "language_info": {
   "codemirror_mode": {
    "name": "ipython",
    "version": 3
   },
   "file_extension": ".py",
   "mimetype": "text/x-python",
   "name": "python",
   "nbconvert_exporter": "python",
   "pygments_lexer": "ipython3",
   "version": "3.10.13"
  }
 },
 "nbformat": 4,
 "nbformat_minor": 2
}
