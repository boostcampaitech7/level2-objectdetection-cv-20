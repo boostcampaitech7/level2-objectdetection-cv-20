{
 "cells": [
  {
   "cell_type": "code",
   "execution_count": 3,
   "metadata": {},
   "outputs": [],
   "source": [
    "import os\n",
    "import json\n",
    "import numpy as np\n",
    "from sklearn.model_selection import StratifiedGroupKFold"
   ]
  },
  {
   "cell_type": "code",
   "execution_count": 5,
   "metadata": {},
   "outputs": [
    {
     "name": "stdout",
     "output_type": "stream",
     "text": [
      "Fold 0: Train and validation JSON files created.\n",
      "Fold 1: Train and validation JSON files created.\n",
      "Fold 2: Train and validation JSON files created.\n",
      "Fold 3: Train and validation JSON files created.\n",
      "Fold 4: Train and validation JSON files created.\n"
     ]
    }
   ],
   "source": [
    "\n",
    "annotation_path = './dataset/train.json'\n",
    "output_path = './dataset'\n",
    "\n",
    "with open(annotation_path) as f: \n",
    "    data = json.load(f)\n",
    "\n",
    "var = [(ann['image_id'], ann['category_id']) for ann in data['annotations']]\n",
    "X = np.ones((len(data['annotations']),1))\n",
    "y = np.array([v[1] for v in var])\n",
    "groups = np.array([v[0] for v in var])\n",
    "\n",
    "cv = StratifiedGroupKFold(n_splits=5, shuffle=True, random_state=20)\n",
    "\n",
    "for fold_idx, (train_idx, val_idx) in enumerate(cv.split(X, y, groups)):\n",
    "\n",
    "    train_annotations = [data['annotations'][i] for i in train_idx]\n",
    "    val_annotations = [data['annotations'][i] for i in val_idx]\n",
    "    \n",
    "    train_data = {\n",
    "        'images': data['images'],\n",
    "        'annotations': train_annotations,\n",
    "        'categories': data['categories']\n",
    "    }\n",
    "    val_data = {\n",
    "        'images': data['images'],\n",
    "        'annotations': val_annotations,\n",
    "        'categories': data['categories']\n",
    "    }\n",
    "    \n",
    "    train_path = os.path.join(output_path, f'train_kfold{fold_idx}.json')\n",
    "    val_path = os.path.join(output_path, f'val_kfold{fold_idx}.json')\n",
    "\n",
    "    with open(train_path, 'w') as train_file:\n",
    "        json.dump(train_data, train_file, indent=4)\n",
    "    \n",
    "    with open(val_path, 'w') as val_file:\n",
    "        json.dump(val_data, val_file, indent=4)\n",
    "\n",
    "    print(f'Fold {fold_idx}: Train and validation JSON files created.')"
   ]
  },
  {
   "cell_type": "code",
   "execution_count": null,
   "metadata": {},
   "outputs": [],
   "source": []
  }
 ],
 "metadata": {
  "kernelspec": {
   "display_name": "base",
   "language": "python",
   "name": "python3"
  },
  "language_info": {
   "codemirror_mode": {
    "name": "ipython",
    "version": 3
   },
   "file_extension": ".py",
   "mimetype": "text/x-python",
   "name": "python",
   "nbconvert_exporter": "python",
   "pygments_lexer": "ipython3",
   "version": "3.10.13"
  }
 },
 "nbformat": 4,
 "nbformat_minor": 2
}
