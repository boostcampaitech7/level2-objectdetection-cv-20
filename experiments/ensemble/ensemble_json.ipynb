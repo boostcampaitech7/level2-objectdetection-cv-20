{
 "cells": [
  {
   "cell_type": "code",
   "execution_count": 15,
   "metadata": {},
   "outputs": [
    {
     "name": "stdout",
     "output_type": "stream",
     "text": [
      "start\n",
      "pd.read_json 완료\n"
     ]
    },
    {
     "name": "stderr",
     "output_type": "stream",
     "text": [
      "c:\\Users\\Q\\anaconda3\\envs\\project2\\lib\\site-packages\\ipykernel_launcher.py:45: TqdmDeprecationWarning: This function will be removed in tqdm==5.0.0\n",
      "Please use `tqdm.notebook.tqdm` instead of `tqdm.tqdm_notebook`\n"
     ]
    },
    {
     "data": {
      "application/vnd.jupyter.widget-view+json": {
       "model_id": "0f67647b57ff4942a4286dc9d177d41d",
       "version_major": 2,
       "version_minor": 0
      },
      "text/plain": [
       "  0%|          | 0/4871 [00:00<?, ?it/s]"
      ]
     },
     "metadata": {},
     "output_type": "display_data"
    },
    {
     "name": "stdout",
     "output_type": "stream",
     "text": [
      "각 이미지의wbf 완료\n"
     ]
    },
    {
     "name": "stderr",
     "output_type": "stream",
     "text": [
      "c:\\Users\\Q\\anaconda3\\envs\\project2\\lib\\site-packages\\ipykernel_launcher.py:63: TqdmDeprecationWarning: This function will be removed in tqdm==5.0.0\n",
      "Please use `tqdm.notebook.tqdm` instead of `tqdm.tqdm_notebook`\n"
     ]
    },
    {
     "data": {
      "application/vnd.jupyter.widget-view+json": {
       "model_id": "5cc8397105ff47b799e5873af35e4a35",
       "version_major": 2,
       "version_minor": 0
      },
      "text/plain": [
       "  0%|          | 0/4871 [00:00<?, ?it/s]"
      ]
     },
     "metadata": {},
     "output_type": "display_data"
    },
    {
     "name": "stdout",
     "output_type": "stream",
     "text": [
      "Ensemble submission saved successfully.\n"
     ]
    }
   ],
   "source": [
    "import os\n",
    "import pandas as pd\n",
    "from ensemble_boxes import weighted_boxes_fusion as wbf\n",
    "from ensemble_boxes import nms, soft_nms\n",
    "import tqdm\n",
    "\n",
    "# bbox 변환 함수\n",
    "def xywh2xyxy(bbox, img_size=1024):\n",
    "    x_min = bbox[0]\n",
    "    y_min = bbox[1]\n",
    "    x_max = x_min + bbox[2]\n",
    "    y_max = y_min + bbox[3]\n",
    "    return [x_min/img_size, y_min/img_size, x_max/img_size, y_max/img_size]\n",
    "\n",
    "# ensemble 적용 함수\n",
    "def apply_ensemble_method(ensemble, bbox_list, scores_list, labels_list, weights=None, iou_thr=0.5, skip_box_thr=0.0001, sigma=0.5):\n",
    "    if weights is None:\n",
    "        weights = [1] * len(bbox_list)  # 기본 가중치\n",
    "    \n",
    "    if ensemble == 'nms':\n",
    "        boxes, scores, labels = nms(bbox_list, scores_list, labels_list, weights=weights, iou_thr=iou_thr)\n",
    "    elif ensemble == 'soft_nms':\n",
    "        boxes, scores, labels = soft_nms(bbox_list, scores_list, labels_list, weights=weights, iou_thr=iou_thr, sigma=sigma, thresh=skip_box_thr)\n",
    "    elif ensemble == 'wbf':\n",
    "        boxes, scores, labels = wbf(bbox_list, scores_list, labels_list, weights=weights, iou_thr=iou_thr, skip_box_thr=skip_box_thr)\n",
    "    else:\n",
    "        raise ValueError(f\"Unknown ensemble method: {ensemble}\")\n",
    "    \n",
    "    return boxes, scores, labels\n",
    "\n",
    "\n",
    "print(\"start\")\n",
    "base_dir = './ensemble_json_data/'\n",
    "img_size = 1024\n",
    "\n",
    "# 디렉토리 내 모든 JSON 파일 목록 가져오기\n",
    "all_files = os.listdir(base_dir)\n",
    "json_files = [file for file in all_files if file.endswith('.json')]\n",
    "\n",
    "# 파일 경로 생성\n",
    "json_file_paths = [os.path.join(base_dir, json_file) for json_file in json_files]\n",
    "\n",
    "# JSON 파일을 읽어서 bbox, scores, labels 데이터를 준비\n",
    "grouped_dfs = []\n",
    "for json_file_path in json_file_paths:\n",
    "    df = pd.read_json(json_file_path)\n",
    "    df['bbox'] = df['bbox'].apply(xywh2xyxy)\n",
    "    grouped_df = df.groupby('image_id').agg(list).reset_index()\n",
    "    grouped_dfs.append(grouped_df)\n",
    "\n",
    "print(\"pd.read_json 완료\")\n",
    "\n",
    "#ensemble 방법 정의\n",
    "ensemble_method = 'nms'  # 'nms', 'soft_nms', 'wbf' 중 선택 가능\n",
    "\n",
    "# 가중치 및 WBF 설정값 정의\n",
    "weights = [1] * len(grouped_dfs)\n",
    "iou_thr = 0.3\n",
    "skip_box_thr = 0.0001 # 이 점수 이하의 박스는 결합에서 제외.\n",
    "sigma = 0.1 # soft_nms 에서 IoU에 따른 가중치 감소 정도를 조정하는 값.\n",
    "\n",
    "img_bboxs = []\n",
    "img_scores = []\n",
    "img_labels = []\n",
    "\n",
    "# 각 이미지에 대해 WBF 수행\n",
    "for image_id in tqdm.tqdm_notebook(range(len(grouped_dfs[0]))):\n",
    "    labels_list = [grouped_df['category_id'][image_id] for grouped_df in grouped_dfs]\n",
    "    scores_list = [grouped_df['score'][image_id] for grouped_df in grouped_dfs]\n",
    "    bbox_list = [grouped_df['bbox'][image_id] for grouped_df in grouped_dfs]\n",
    "    \n",
    "    boxes, scores, labels = apply_ensemble_method(ensemble_method, bbox_list, scores_list, labels_list, weights=weights, iou_thr=iou_thr, skip_box_thr=skip_box_thr, sigma=sigma)\n",
    "\n",
    "    img_bboxs.append((boxes*img_size).tolist())\n",
    "    img_scores.append(scores.tolist())\n",
    "    img_labels.append(labels.tolist())\n",
    "\n",
    "print(\"각 이미지의wbf 완료\")\n",
    "# PredictionString과 file_name 준비\n",
    "prediction_strings = []\n",
    "file_names = []\n",
    "\n",
    "for image_id in tqdm.tqdm_notebook(range(len(img_bboxs))):\n",
    "    prediction_string = ''\n",
    "    for i in range(len(img_bboxs[image_id])):\n",
    "        prediction_string += str(int(img_labels[image_id][i])) + ' ' + str(img_scores[image_id][i]) + ' ' + ' '.join(map(str, img_bboxs[image_id][i])) + ' '\n",
    "        \n",
    "    prediction_strings.append(prediction_string)\n",
    "\n",
    "\n",
    "file_names = [f'test/{i:04d}.jpg' for i in range(len(img_bboxs))]\n",
    "\n",
    "# 결과 저장\n",
    "submission = pd.DataFrame()\n",
    "submission['PredictionString'] = prediction_strings\n",
    "submission['image_id'] = file_names\n",
    "submission.to_csv('./submission/ensemble_submission_test_07.csv', index=None)\n",
    "\n",
    "print(\"Ensemble submission saved successfully.\")\n"
   ]
  }
 ],
 "metadata": {
  "kernelspec": {
   "display_name": "project2",
   "language": "python",
   "name": "python3"
  },
  "language_info": {
   "codemirror_mode": {
    "name": "ipython",
    "version": 3
   },
   "file_extension": ".py",
   "mimetype": "text/x-python",
   "name": "python",
   "nbconvert_exporter": "python",
   "pygments_lexer": "ipython3",
   "version": "3.7.13"
  }
 },
 "nbformat": 4,
 "nbformat_minor": 2
}
